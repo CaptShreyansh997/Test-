{
 "cells": [
  {
   "cell_type": "code",
   "execution_count": 1,
   "id": "898280b0",
   "metadata": {},
   "outputs": [
    {
     "ename": "SyntaxError",
     "evalue": "invalid syntax (3994735228.py, line 1)",
     "output_type": "error",
     "traceback": [
      "\u001b[1;36m  File \u001b[1;32m\"C:\\Users\\hp\\AppData\\Local\\Temp\\ipykernel_5100\\3994735228.py\"\u001b[1;36m, line \u001b[1;32m1\u001b[0m\n\u001b[1;33m    441+\u001b[0m\n\u001b[1;37m        ^\u001b[0m\n\u001b[1;31mSyntaxError\u001b[0m\u001b[1;31m:\u001b[0m invalid syntax\n"
     ]
    }
   ],
   "source": [
    "441+"
   ]
  },
  {
   "cell_type": "code",
   "execution_count": 2,
   "id": "77072869",
   "metadata": {},
   "outputs": [
    {
     "data": {
      "text/plain": [
       "910912"
      ]
     },
     "execution_count": 2,
     "metadata": {},
     "output_type": "execute_result"
    }
   ],
   "source": [
    "456456+454456"
   ]
  },
  {
   "cell_type": "code",
   "execution_count": 3,
   "id": "6e0c7b4e",
   "metadata": {},
   "outputs": [
    {
     "data": {
      "text/plain": [
       "90"
      ]
     },
     "execution_count": 3,
     "metadata": {},
     "output_type": "execute_result"
    }
   ],
   "source": [
    "45+45"
   ]
  },
  {
   "cell_type": "code",
   "execution_count": 4,
   "id": "f488c22e",
   "metadata": {},
   "outputs": [],
   "source": [
    "#HEading"
   ]
  },
  {
   "cell_type": "markdown",
   "id": "4246e7ff",
   "metadata": {},
   "source": [
    "# Heading "
   ]
  },
  {
   "cell_type": "markdown",
   "id": "14cbbe91",
   "metadata": {},
   "source": [
    "## Heading "
   ]
  },
  {
   "cell_type": "markdown",
   "id": "abf51ca2",
   "metadata": {},
   "source": [
    "#### Heading"
   ]
  },
  {
   "cell_type": "code",
   "execution_count": null,
   "id": "dd3d4163",
   "metadata": {},
   "outputs": [],
   "source": []
  },
  {
   "cell_type": "code",
   "execution_count": null,
   "id": "2146abc7",
   "metadata": {},
   "outputs": [],
   "source": []
  },
  {
   "cell_type": "code",
   "execution_count": null,
   "id": "63313dc7",
   "metadata": {},
   "outputs": [],
   "source": []
  },
  {
   "cell_type": "code",
   "execution_count": null,
   "id": "188c7ef0",
   "metadata": {},
   "outputs": [],
   "source": []
  },
  {
   "cell_type": "code",
   "execution_count": null,
   "id": "5ed93d38",
   "metadata": {},
   "outputs": [],
   "source": []
  }
 ],
 "metadata": {
  "kernelspec": {
   "display_name": "Python 3 (ipykernel)",
   "language": "python",
   "name": "python3"
  },
  "language_info": {
   "codemirror_mode": {
    "name": "ipython",
    "version": 3
   },
   "file_extension": ".py",
   "mimetype": "text/x-python",
   "name": "python",
   "nbconvert_exporter": "python",
   "pygments_lexer": "ipython3",
   "version": "3.9.13"
  }
 },
 "nbformat": 4,
 "nbformat_minor": 5
}
